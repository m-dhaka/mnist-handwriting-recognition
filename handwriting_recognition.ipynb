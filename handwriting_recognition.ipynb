{
  "nbformat": 4,
  "nbformat_minor": 0,
  "metadata": {
    "colab": {
      "provenance": [],
      "include_colab_link": true
    },
    "kernelspec": {
      "name": "python3",
      "display_name": "Python 3"
    },
    "language_info": {
      "name": "python"
    },
    "gpuClass": "standard"
  },
  "cells": [
    {
      "cell_type": "markdown",
      "metadata": {
        "id": "view-in-github",
        "colab_type": "text"
      },
      "source": [
        "<a href=\"https://colab.research.google.com/github/xymeo/mnist-handwriting-recognition/blob/main/handwriting_recognition.ipynb\" target=\"_parent\"><img src=\"https://colab.research.google.com/assets/colab-badge.svg\" alt=\"Open In Colab\"/></a>"
      ]
    },
    {
      "cell_type": "code",
      "execution_count": 1,
      "metadata": {
        "id": "8_rEgdRwHr8_"
      },
      "outputs": [],
      "source": [
        "import torch\n",
        "import torch.nn as nn\n",
        "import torch.nn.functional as F\n",
        "import torch.optim as optim\n",
        "import torchvision\n",
        "import torchvision.transforms as transforms\n",
        "import torchvision.datasets as datasets\n",
        "import matplotlib.pyplot as plt\n",
        "import numpy as np\n",
        "from tqdm import tqdm\n",
        "from torch.utils.data import DataLoader\n"
      ]
    },
    {
      "cell_type": "code",
      "source": [
        "mnist = datasets.MNIST(root=\"data\", train=True, download=True, transform=transforms.ToTensor())"
      ],
      "metadata": {
        "id": "loxnisPjH0Hi"
      },
      "execution_count": 2,
      "outputs": []
    },
    {
      "cell_type": "code",
      "source": [
        "print('Mean {} \\n Std: {}'.format(mnist.data.float().mean() / 255, mnist.data.float().std() / 255))\n"
      ],
      "metadata": {
        "colab": {
          "base_uri": "https://localhost:8080/"
        },
        "id": "mLdetwmKH5gb",
        "outputId": "504b8357-c9d1-4130-cbce-6e9af3efdebb"
      },
      "execution_count": 3,
      "outputs": [
        {
          "output_type": "stream",
          "name": "stdout",
          "text": [
            "Mean 0.13066047430038452 \n",
            " Std: 0.30810779333114624\n"
          ]
        }
      ]
    },
    {
      "cell_type": "code",
      "source": [
        "transform_set = transforms.Compose([transforms.ToTensor(), transforms.Normalize((0.1307,), (0.3081,))])\n",
        "# transform_set = transforms.Compose([\n",
        "#                               transforms.ToTensor(),\n",
        "#                               transforms.Normalize((0.5), (0.5)),\n",
        "#                              ])\n"
      ],
      "metadata": {
        "id": "XvMgnRRCILv5"
      },
      "execution_count": 4,
      "outputs": []
    },
    {
      "cell_type": "code",
      "source": [
        "training_set = datasets.MNIST(root=\"data\", train=True, download=True, transform=transform_set) "
      ],
      "metadata": {
        "id": "vKzkf3ZjJNLM"
      },
      "execution_count": 5,
      "outputs": []
    },
    {
      "cell_type": "markdown",
      "source": [
        "**Examining Sample Training Image** "
      ],
      "metadata": {
        "id": "-CanvxVCO9tX"
      }
    },
    {
      "cell_type": "code",
      "source": [
        "plt.imshow(training_set[0][0].squeeze());"
      ],
      "metadata": {
        "colab": {
          "base_uri": "https://localhost:8080/",
          "height": 264
        },
        "id": "pWZSQBxdOkZz",
        "outputId": "a8b46f16-74bb-4e6e-82e5-8a18034a77a8"
      },
      "execution_count": 6,
      "outputs": [
        {
          "output_type": "display_data",
          "data": {
            "text/plain": [
              "<Figure size 432x288 with 1 Axes>"
            ],
            "image/png": "[encoded data removed]"
          },
          "metadata": {
            "needs_background": "light"
          }
        }
      ]
    },
    {
      "cell_type": "code",
      "source": [
        "print(format(mnist[0][0].shape))\n",
        "plt.imshow(mnist[0][0].squeeze());"
      ],
      "metadata": {
        "colab": {
          "base_uri": "https://localhost:8080/",
          "height": 281
        },
        "id": "UenFR9P4iumh",
        "outputId": "7d7ae191-49c6-44c0-c7b3-65a73e5a0ceb"
      },
      "execution_count": 7,
      "outputs": [
        {
          "output_type": "stream",
          "name": "stdout",
          "text": [
            "torch.Size([1, 28, 28])\n"
          ]
        },
        {
          "output_type": "display_data",
          "data": {
            "text/plain": [
              "<Figure size 432x288 with 1 Axes>"
            ],
            "image/png": "[encoded data removed]"
          },
          "metadata": {
            "needs_background": "light"
          }
        }
      ]
    },
    {
      "cell_type": "code",
      "source": [
        "validation_set = datasets.MNIST(root=\"data\", train=False, download=True, transform=transform_set)"
      ],
      "metadata": {
        "id": "dPLd79g9JaIs"
      },
      "execution_count": 8,
      "outputs": []
    },
    {
      "cell_type": "code",
      "source": [
        "train_loader = DataLoader(training_set, batch_size=64, shuffle=True)\n",
        "test_loader = DataLoader(validation_set, batch_size=64)\n"
      ],
      "metadata": {
        "id": "hxVDyTMJJvi7"
      },
      "execution_count": 9,
      "outputs": []
    },
    {
      "cell_type": "code",
      "source": [
        "def show5(img_loader):\n",
        "    dataiter = iter(img_loader)\n",
        "    \n",
        "    batch = next(dataiter)\n",
        "    labels = batch[1][0:5]\n",
        "    images = batch[0][0:5]\n",
        "    for i in range(5):\n",
        "        print(int(labels[i].detach()))\n",
        "    \n",
        "        image = images[i].numpy()\n",
        "        plt.imshow(image.T.squeeze().T)\n",
        "        plt.show()"
      ],
      "metadata": {
        "id": "463b_-eGJpsF"
      },
      "execution_count": 10,
      "outputs": []
    },
    {
      "cell_type": "code",
      "source": [
        "show5(train_loader)"
      ],
      "metadata": {
        "colab": {
          "base_uri": "https://localhost:8080/",
          "height": 1000
        },
        "id": "m_QsU9MOKCLp",
        "outputId": "d40d7931-b09e-44fc-9567-ca03b608af9d"
      },
      "execution_count": 11,
      "outputs": [
        {
          "output_type": "stream",
          "name": "stdout",
          "text": [
            "1\n"
          ]
        },
        {
          "output_type": "display_data",
          "data": {
            "text/plain": [
              "<Figure size 432x288 with 1 Axes>"
            ],
            "image/png": "[encoded data removed]"
          },
          "metadata": {
            "needs_background": "light"
          }
        },
        {
          "output_type": "stream",
          "name": "stdout",
          "text": [
            "4\n"
          ]
        },
        {
          "output_type": "display_data",
          "data": {
            "text/plain": [
              "<Figure size 432x288 with 1 Axes>"
            ],
            "image/png": "[encoded data removed]"
          },
          "metadata": {
            "needs_background": "light"
          }
        },
        {
          "output_type": "stream",
          "name": "stdout",
          "text": [
            "8\n"
          ]
        },
        {
          "output_type": "display_data",
          "data": {
            "text/plain": [
              "<Figure size 432x288 with 1 Axes>"
            ],
            "image/png": "[encoded data removed]"
          },
          "metadata": {
            "needs_background": "light"
          }
        },
        {
          "output_type": "stream",
          "name": "stdout",
          "text": [
            "6\n"
          ]
        },
        {
          "output_type": "display_data",
          "data": {
            "text/plain": [
              "<Figure size 432x288 with 1 Axes>"
            ],
            "image/png": "[encoded data removed]"
          },
          "metadata": {
            "needs_background": "light"
          }
        },
        {
          "output_type": "stream",
          "name": "stdout",
          "text": [
            "5\n"
          ]
        },
        {
          "output_type": "display_data",
          "data": {
            "text/plain": [
              "<Figure size 432x288 with 1 Axes>"
            ],
            "image/png": "[encoded data removed]"
          },
          "metadata": {
            "needs_background": "light"
          }
        }
      ]
    },
    {
      "cell_type": "markdown",
      "source": [
        "Building the NN"
      ],
      "metadata": {
        "id": "GGEoNjfzKyOb"
      }
    },
    {
      "cell_type": "code",
      "source": [
        "class Net(nn.Module):\n",
        "  def __init__(self):\n",
        "     super().__init__()\n",
        "     self.activation = F.relu\n",
        "     self.hl1 = nn.Linear(28*28, 128)\n",
        "     self.hl2 = nn.Linear(128, 64)\n",
        "     self.hl3 = nn.Linear(64, 10)\n",
        "\n",
        "\n",
        "  def forward(self, x):\n",
        "    x = torch.flatten(x,1)\n",
        "    x = self.activation(self.hl1(x))\n",
        "    x = self.activation(self.hl2(x))\n",
        "    x = self.hl3(x)\n",
        "    return x \n",
        "\n",
        "model = Net()\n"
      ],
      "metadata": {
        "id": "viqtgKsRKzj8"
      },
      "execution_count": 12,
      "outputs": []
    },
    {
      "cell_type": "code",
      "source": [
        "model "
      ],
      "metadata": {
        "id": "9ijwIjuQh-q8",
        "colab": {
          "base_uri": "https://localhost:8080/"
        },
        "outputId": "44f44628-cfac-4e4f-ffab-36b813d242ea"
      },
      "execution_count": 13,
      "outputs": [
        {
          "output_type": "execute_result",
          "data": {
            "text/plain": [
              "Net(\n",
              "  (hl1): Linear(in_features=784, out_features=128, bias=True)\n",
              "  (hl2): Linear(in_features=128, out_features=64, bias=True)\n",
              "  (hl3): Linear(in_features=64, out_features=10, bias=True)\n",
              ")"
            ]
          },
          "metadata": {},
          "execution_count": 13
        }
      ]
    },
    {
      "cell_type": "markdown",
      "source": [
        "**Optimizer and Loss Function**"
      ],
      "metadata": {
        "id": "4AyynrKjifxU"
      }
    },
    {
      "cell_type": "code",
      "source": [
        "learning_rate = 0.01\n",
        "optimizer = optim.SGD(model.parameters(), lr=learning_rate)\n",
        "loss_function = nn.CrossEntropyLoss()"
      ],
      "metadata": {
        "id": "GVr48hDYh_a3"
      },
      "execution_count": 14,
      "outputs": []
    },
    {
      "cell_type": "code",
      "source": [
        "num_epochs = 10\n",
        "\n",
        "training_loss_history, val_loss_history = [], []\n",
        "training_acc_history, val_acc_history = [], []\n",
        "\n",
        "if torch.cuda.is_available():\n",
        "  model = model.cuda()\n",
        "for epoch in range(num_epochs):\n",
        "    model.train()\n",
        "    train_loss = 0.0\n",
        "    train_correct = 0 # Number of correct predictions in training set\n",
        "    training_acc = 0.0\n",
        "    \n",
        "    for i, data in enumerate(tqdm(train_loader)):\n",
        "        inputs, labels = data\n",
        "        if torch.cuda.is_available():  # Enable GPU if available\n",
        "            inputs, labels = inputs.cuda(), labels.cuda()\n",
        "            \n",
        "        optimizer.zero_grad() # Set gradients of all weights to 0 \n",
        "        outputs = model(inputs) # Get the output \n",
        "        loss = loss_function(outputs, labels) # Calculate loss agains labels \n",
        "        loss.backward() # Calculate dloss/dx for parameters x \n",
        "        optimizer.step() # Parameter update\n",
        "\n",
        "        _, preds = torch.max(outputs.data, 1)\n",
        "        train_correct += (preds == labels).sum().item()\n",
        "        train_loss += loss.item()\n",
        "      \n",
        "    training_acc = train_correct * 100 /len(training_set)\n",
        "    print(f'Epoch {epoch + 1} training accuracy: {training_acc:.2f}% training loss: {train_loss/len(training_set):.5f}')\n",
        "    training_loss_history.append(train_loss/len(train_loader))\n",
        "    training_acc_history.append(training_acc)\n",
        "\n",
        "    val_loss = 0.0\n",
        "    val_correct = 0 # Number of correct predictions in training set\n",
        "    validation_acc = 0.0\n",
        "    with torch.no_grad():\n",
        "      model.eval()\n",
        "      for inputs, labels in test_loader:\n",
        "          if torch.cuda.is_available():\n",
        "              inputs, labels = inputs.cuda(), labels.cuda()\n",
        "          outputs = model(inputs) # Get output\n",
        "          loss = loss_function(outputs, labels) \n",
        "\n",
        "          _, preds = torch.max(outputs.data, 1)\n",
        "          val_correct += (preds == labels).sum().item()\n",
        "          val_loss += loss.item()\n",
        "    \n",
        "    validation_acc = val_correct * 100 /len(validation_set)\n",
        "    print(f'Epoch {epoch + 1} validation accuracy: {validation_acc:.2f}% validation loss: {val_loss/len(validation_set):.5f}')\n",
        "    val_loss_history.append(val_loss/len(test_loader))\n",
        "    val_acc_history.append(validation_acc)\n"
      ],
      "metadata": {
        "colab": {
          "base_uri": "https://localhost:8080/"
        },
        "id": "EN-vbmmklhu4",
        "outputId": "de249771-3def-4f88-8c67-cc309f1a23e8"
      },
      "execution_count": 15,
      "outputs": [
        {
          "output_type": "stream",
          "name": "stderr",
          "text": [
            "100%|██████████| 938/938 [00:16<00:00, 55.26it/s]\n"
          ]
        },
        {
          "output_type": "stream",
          "name": "stdout",
          "text": [
            "Epoch 1 training accuracy: 78.43% training loss: 0.01279\n",
            "Epoch 1 validation accuracy: 90.30% validation loss: 0.00534\n"
          ]
        },
        {
          "output_type": "stream",
          "name": "stderr",
          "text": [
            "100%|██████████| 938/938 [00:10<00:00, 86.47it/s]\n"
          ]
        },
        {
          "output_type": "stream",
          "name": "stdout",
          "text": [
            "Epoch 2 training accuracy: 91.04% training loss: 0.00488\n",
            "Epoch 2 validation accuracy: 92.42% validation loss: 0.00417\n"
          ]
        },
        {
          "output_type": "stream",
          "name": "stderr",
          "text": [
            "100%|██████████| 938/938 [00:10<00:00, 86.41it/s]\n"
          ]
        },
        {
          "output_type": "stream",
          "name": "stdout",
          "text": [
            "Epoch 3 training accuracy: 92.64% training loss: 0.00399\n",
            "Epoch 3 validation accuracy: 93.37% validation loss: 0.00357\n"
          ]
        },
        {
          "output_type": "stream",
          "name": "stderr",
          "text": [
            "100%|██████████| 938/938 [00:11<00:00, 82.20it/s]\n"
          ]
        },
        {
          "output_type": "stream",
          "name": "stdout",
          "text": [
            "Epoch 4 training accuracy: 93.68% training loss: 0.00342\n",
            "Epoch 4 validation accuracy: 93.83% validation loss: 0.00328\n"
          ]
        },
        {
          "output_type": "stream",
          "name": "stderr",
          "text": [
            "100%|██████████| 938/938 [00:10<00:00, 85.92it/s]\n"
          ]
        },
        {
          "output_type": "stream",
          "name": "stdout",
          "text": [
            "Epoch 5 training accuracy: 94.49% training loss: 0.00299\n",
            "Epoch 5 validation accuracy: 94.90% validation loss: 0.00277\n"
          ]
        },
        {
          "output_type": "stream",
          "name": "stderr",
          "text": [
            "100%|██████████| 938/938 [00:10<00:00, 86.23it/s]\n"
          ]
        },
        {
          "output_type": "stream",
          "name": "stdout",
          "text": [
            "Epoch 6 training accuracy: 95.11% training loss: 0.00265\n",
            "Epoch 6 validation accuracy: 95.30% validation loss: 0.00256\n"
          ]
        },
        {
          "output_type": "stream",
          "name": "stderr",
          "text": [
            "100%|██████████| 938/938 [00:10<00:00, 85.85it/s]\n"
          ]
        },
        {
          "output_type": "stream",
          "name": "stdout",
          "text": [
            "Epoch 7 training accuracy: 95.64% training loss: 0.00236\n",
            "Epoch 7 validation accuracy: 95.67% validation loss: 0.00228\n"
          ]
        },
        {
          "output_type": "stream",
          "name": "stderr",
          "text": [
            "100%|██████████| 938/938 [00:11<00:00, 83.53it/s]\n"
          ]
        },
        {
          "output_type": "stream",
          "name": "stdout",
          "text": [
            "Epoch 8 training accuracy: 96.09% training loss: 0.00213\n",
            "Epoch 8 validation accuracy: 96.15% validation loss: 0.00208\n"
          ]
        },
        {
          "output_type": "stream",
          "name": "stderr",
          "text": [
            "100%|██████████| 938/938 [00:11<00:00, 85.20it/s]\n"
          ]
        },
        {
          "output_type": "stream",
          "name": "stdout",
          "text": [
            "Epoch 9 training accuracy: 96.48% training loss: 0.00193\n",
            "Epoch 9 validation accuracy: 96.32% validation loss: 0.00196\n"
          ]
        },
        {
          "output_type": "stream",
          "name": "stderr",
          "text": [
            "100%|██████████| 938/938 [00:10<00:00, 85.67it/s]\n"
          ]
        },
        {
          "output_type": "stream",
          "name": "stdout",
          "text": [
            "Epoch 10 training accuracy: 96.71% training loss: 0.00177\n",
            "Epoch 10 validation accuracy: 96.46% validation loss: 0.00186\n"
          ]
        }
      ]
    },
    {
      "cell_type": "code",
      "source": [
        "# Plot the training and validation loss history\n",
        "plt.plot(training_loss_history, label=\"Training Loss\")\n",
        "plt.plot(val_loss_history, label=\"Validation Loss\")\n",
        "plt.xlabel('epoch')\n",
        "plt.ylabel('loss')\n",
        "plt.title('f Training vs Validation loss. Learning rate = ' + format(learning_rate))\n",
        "plt.legend()\n",
        "plt.show()\n"
      ],
      "metadata": {
        "colab": {
          "base_uri": "https://localhost:8080/",
          "height": 294
        },
        "id": "FVsVU1VRmHze",
        "outputId": "1a7411ef-050a-49dc-df5d-ceb702149a15"
      },
      "execution_count": 16,
      "outputs": [
        {
          "output_type": "display_data",
          "data": {
            "text/plain": [
              "<Figure size 432x288 with 1 Axes>"
            ],
            "image/png": "[encoded data removed]"
          },
          "metadata": {
            "needs_background": "light"
          }
        }
      ]
    },
    {
      "cell_type": "code",
      "source": [
        "# Plot the training and validation loss history\n",
        "plt.plot(training_acc_history, label=\"Training Accuracy\")\n",
        "plt.plot(val_acc_history, label=\"Validation Accuracy\")\n",
        "plt.xlabel('epoch')\n",
        "plt.ylabel('accuracy (%)')\n",
        "plt.title('f Training vs Validation Accuracy. Learning rate = ' + format(learning_rate))\n",
        "plt.legend()\n",
        "plt.show()\n"
      ],
      "metadata": {
        "id": "eVfmP7-7t5NI",
        "colab": {
          "base_uri": "https://localhost:8080/",
          "height": 294
        },
        "outputId": "a2e6a97a-0839-4e23-e2f4-290aa2b75d7a"
      },
      "execution_count": 17,
      "outputs": [
        {
          "output_type": "display_data",
          "data": {
            "text/plain": [
              "<Figure size 432x288 with 1 Axes>"
            ],
            "image/png": "[encoded data removed]"
          },
          "metadata": {
            "needs_background": "light"
          }
        }
      ]
    },
    {
      "cell_type": "code",
      "source": [],
      "metadata": {
        "id": "nRHuaMgQ70_r"
      },
      "execution_count": 17,
      "outputs": []
    }
  ]
}