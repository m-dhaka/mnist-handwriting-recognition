{
  "cells": [
    {
      "cell_type": "markdown",
      "metadata": {
        "id": "view-in-github",
        "colab_type": "text"
      },
      "source": [
        "<a href=\"https://colab.research.google.com/github/xymeo/mnist-handwriting-recognition/blob/main/handwriting_recognition.ipynb\" target=\"_parent\"><img src=\"https://colab.research.google.com/assets/colab-badge.svg\" alt=\"Open In Colab\"/></a>"
      ]
    },
    {
      "cell_type": "markdown",
      "metadata": {
        "id": "XrzyUiG564K-"
      },
      "source": [
        "The goal of this project is to compare the accuracy of recognizing handwritten numbers, by training on the MNIST dataset two models - Convolutional Neural Networks and Multi Layered Perceptrons. \n",
        "\n",
        "The loss generated per epoch, and training and validation accuracies are compared for both models.\n"
      ]
    },
    {
      "cell_type": "code",
      "execution_count": 14,
      "metadata": {
        "id": "4iAY5jeA2gkk"
      },
      "outputs": [],
      "source": [
        "import torch\n",
        "import torch.nn as nn\n",
        "import torch.nn.functional as F\n",
        "import torch.optim as optim\n",
        "import torchvision\n",
        "import torchvision.transforms as transforms\n",
        "import torchvision.datasets as datasets\n",
        "import matplotlib.pyplot as plt\n",
        "import numpy as np\n",
        "\n",
        "from tqdm import tqdm\n",
        "from torch.utils.data import DataLoader\n",
        "from torch.optim.lr_scheduler import StepLR"
      ]
    },
    {
      "cell_type": "markdown",
      "metadata": {
        "id": "OzcjjwWZCKHH"
      },
      "source": [
        "# The Dataset\n",
        "\n",
        "We create the transforms for training and validation, create training and validation datasets, and Dataloaders. "
      ]
    },
    {
      "cell_type": "code",
      "execution_count": 15,
      "metadata": {
        "id": "WsyarN_M2kjo"
      },
      "outputs": [],
      "source": [
        "transform_training = transforms.Compose([\n",
        "                                        transforms.ToTensor(),\n",
        "                                        transforms.Normalize((0.5), (0.5)),\n",
        "                                        ])\n",
        "transform_validation = transforms.Compose([\n",
        "                                        transforms.ToTensor(),\n",
        "                                        transforms.Normalize((0.5), (0.5)),\n",
        "                                        ])\n",
        "training_set = datasets.MNIST(root=\"data\", train=True, download=True, transform=transform_training)\n",
        "validation_set = datasets.MNIST(root=\"data\", train=False, download=True, transform=transform_validation)\n"
      ]
    },
    {
      "cell_type": "code",
      "execution_count": 16,
      "metadata": {
        "id": "TbR9Nz4PCcjr"
      },
      "outputs": [],
      "source": [
        "train_loader = DataLoader(training_set, batch_size=64, shuffle=True)\n",
        "test_loader = DataLoader(validation_set, batch_size=64)"
      ]
    },
    {
      "cell_type": "markdown",
      "metadata": {
        "id": "AEezE4EsCal3"
      },
      "source": [
        "### Visualizing the data and associated labels "
      ]
    },
    {
      "cell_type": "code",
      "execution_count": 61,
      "metadata": {
        "colab": {
          "base_uri": "https://localhost:8080/",
          "height": 318
        },
        "id": "sFevYHiw6jc9",
        "outputId": "aad80e2d-ff35-4228-a5f1-265f14961432"
      },
      "outputs": [
        {
          "output_type": "display_data",
          "data": {
            "text/plain": [
              "<Figure size 360x360 with 4 Axes>"
            ],
            "image/png": "[encoded data removed]"
          },
          "metadata": {
            "needs_background": "light"
          }
        }
      ],
      "source": [
        "figure = plt.figure(figsize=(5, 5))\n",
        "cols, rows = 2, 2\n",
        "for i in range(1, cols * rows + 1):\n",
        "    sample_idx = torch.randint(len(training_set), size=(1,)).item()\n",
        "    img, label = training_set[sample_idx]\n",
        "    figure.add_subplot(rows, cols, i)\n",
        "    plt.title(label)\n",
        "    plt.axis(\"off\")\n",
        "    plt.imshow(img.squeeze(), cmap=\"gray\")\n",
        "plt.show()"
      ]
    },
    {
      "cell_type": "markdown",
      "metadata": {
        "id": "WMuZ3RQQC-p5"
      },
      "source": [
        "# Creating Models\n",
        "\n"
      ]
    },
    {
      "cell_type": "markdown",
      "source": [
        "### Defining the Convolutional Neural Network (CNN)"
      ],
      "metadata": {
        "id": "WQK3_pBVrd7t"
      }
    },
    {
      "cell_type": "code",
      "execution_count": 33,
      "metadata": {
        "colab": {
          "base_uri": "https://localhost:8080/"
        },
        "id": "eJpT4Alg8aC5",
        "outputId": "9194e993-dde3-411e-f165-3932c4cc716b"
      },
      "outputs": [
        {
          "output_type": "execute_result",
          "data": {
            "text/plain": [
              "CNN(\n",
              "  (conv_block): Sequential(\n",
              "    (0): Conv2d(1, 16, kernel_size=(3, 3), stride=(1, 1), padding=(2, 2))\n",
              "    (1): MaxPool2d(kernel_size=2, stride=2, padding=0, dilation=1, ceil_mode=False)\n",
              "    (2): ReLU()\n",
              "    (3): Conv2d(16, 32, kernel_size=(3, 3), stride=(1, 1), padding=(2, 2))\n",
              "    (4): MaxPool2d(kernel_size=2, stride=2, padding=0, dilation=1, ceil_mode=False)\n",
              "    (5): ReLU()\n",
              "  )\n",
              "  (fc1): Linear(in_features=2048, out_features=10, bias=True)\n",
              ")"
            ]
          },
          "metadata": {},
          "execution_count": 33
        }
      ],
      "source": [
        "class CNN(nn.Module):\n",
        "  def __init__(self):\n",
        "    \n",
        "    super().__init__()\n",
        "    \n",
        "    self.conv_block = nn.Sequential(\n",
        "      # 1st Conv Block \n",
        "      nn.Conv2d(in_channels=1,              \n",
        "                out_channels=16,            \n",
        "                kernel_size=3,              \n",
        "                stride=1,                   \n",
        "                padding=2),\n",
        "      nn.MaxPool2d(2, 2),\n",
        "      nn.ReLU(),\n",
        "\n",
        "      # 2nd Conv Block \n",
        "      nn.Conv2d(in_channels=16, \n",
        "                out_channels=32, \n",
        "                kernel_size=3, \n",
        "                stride=1,                   \n",
        "                padding=2),\n",
        "      nn.MaxPool2d(2, 2),\n",
        "      nn.ReLU())\n",
        "    \n",
        "    self.fc1 = nn.Linear(2048, 10)\n",
        "      \n",
        "    \n",
        "  def forward(self,x): \n",
        "    x = self.conv_block(x)\n",
        "    x = torch.flatten(x,1)\n",
        "    x = self.fc1(x)\n",
        "    return x\n",
        "\n",
        "\n",
        "cnn = CNN() \n",
        "cnn\n"
      ]
    },
    {
      "cell_type": "markdown",
      "source": [
        "### Defining the Multi Layered Perceptron (MLP)"
      ],
      "metadata": {
        "id": "_RQLzyR8rTS3"
      }
    },
    {
      "cell_type": "code",
      "source": [
        "class Net(nn.Module):\n",
        "  def __init__(self):\n",
        "     super().__init__()\n",
        "     self.activation = F.relu\n",
        "     self.hl1 = nn.Linear(28*28, 128)\n",
        "     self.hl2 = nn.Linear(128, 64)\n",
        "     self.hl3 = nn.Linear(64, 10)\n",
        "\n",
        "\n",
        "  def forward(self, x):\n",
        "    x = torch.flatten(x,1)\n",
        "    x = self.activation(self.hl1(x))\n",
        "    x = self.activation(self.hl2(x))\n",
        "    x = self.hl3(x)\n",
        "    return x \n",
        "\n",
        "mlp = Net()\n",
        "mlp"
      ],
      "metadata": {
        "colab": {
          "base_uri": "https://localhost:8080/"
        },
        "id": "plFzL2H7dRCJ",
        "outputId": "e98bdb8d-e1a9-47da-908c-319b1766d2b7"
      },
      "execution_count": 58,
      "outputs": [
        {
          "output_type": "execute_result",
          "data": {
            "text/plain": [
              "Net(\n",
              "  (hl1): Linear(in_features=784, out_features=128, bias=True)\n",
              "  (hl2): Linear(in_features=128, out_features=64, bias=True)\n",
              "  (hl3): Linear(in_features=64, out_features=10, bias=True)\n",
              ")"
            ]
          },
          "metadata": {},
          "execution_count": 58
        }
      ]
    },
    {
      "cell_type": "markdown",
      "metadata": {
        "id": "Vz8NDYfwFiTx"
      },
      "source": [
        "### Defining Loss Function and Learning Rate"
      ]
    },
    {
      "cell_type": "code",
      "execution_count": 42,
      "metadata": {
        "id": "tsdzOQrbFPS-"
      },
      "outputs": [],
      "source": [
        "loss_function = nn.CrossEntropyLoss()\n",
        "learning_rate = 0.01"
      ]
    },
    {
      "cell_type": "markdown",
      "metadata": {
        "id": "jnoHfxCaGHIP"
      },
      "source": [
        "# Training the Model "
      ]
    },
    {
      "cell_type": "code",
      "execution_count": 64,
      "metadata": {
        "id": "jVmKfHYVGAIo"
      },
      "outputs": [],
      "source": [
        "def training_loop(model, learning_rate, num_epochs=10):\n",
        "\n",
        "  training_loss_history, val_loss_history = [], []\n",
        "  training_acc_history, val_acc_history = [], []\n",
        "\n",
        "  # defining the Optimizer \n",
        "  optimizer = optim.Adam(model.parameters(), lr=learning_rate)\n",
        "\n",
        "  if torch.cuda.is_available():\n",
        "    model = model.cuda() # Enable GPU \n",
        "  for epoch in range(num_epochs):\n",
        "      model.train()\n",
        "      train_loss = 0.0\n",
        "      train_correct = 0 # Number of correct predictions in training set\n",
        "      training_acc = 0.0\n",
        "      \n",
        "      for i, data in enumerate(tqdm(train_loader)):\n",
        "          inputs, labels = data\n",
        "          if torch.cuda.is_available():  # Enable GPU if available\n",
        "              inputs, labels = inputs.cuda(), labels.cuda()\n",
        "              \n",
        "          optimizer.zero_grad() # Set gradients of all weights to 0 \n",
        "          outputs = model(inputs) # Get the output \n",
        "          loss = loss_function(outputs, labels) # Calculate loss agains labels \n",
        "          loss.backward() # Calculate dloss/dx for parameters x \n",
        "          optimizer.step() # Parameter update\n",
        "\n",
        "          _, preds = torch.max(outputs.data, 1)\n",
        "          train_correct += (preds == labels).sum().item()\n",
        "          train_loss += loss.item()\n",
        "        \n",
        "      training_acc = train_correct * 100 /len(training_set)\n",
        "      print(f'Epoch {epoch + 1} training accuracy: {training_acc:.2f}% training loss: {train_loss/len(training_set):.5f}')\n",
        "      training_loss_history.append(train_loss/len(training_set))\n",
        "      training_acc_history.append(training_acc)\n",
        "\n",
        "      val_loss = 0.0\n",
        "      val_correct = 0 # Number of correct predictions in training set\n",
        "      validation_acc = 0.0\n",
        "      with torch.no_grad():\n",
        "        model.eval()\n",
        "        for inputs, labels in test_loader:\n",
        "            if torch.cuda.is_available():\n",
        "                inputs, labels = inputs.cuda(), labels.cuda()\n",
        "            outputs = model(inputs) # Get output\n",
        "            loss = loss_function(outputs, labels) \n",
        "\n",
        "            _, preds = torch.max(outputs.data, 1)\n",
        "            val_correct += (preds == labels).sum().item()\n",
        "            val_loss += loss.item()\n",
        "      \n",
        "      validation_acc = val_correct * 100 /len(validation_set)\n",
        "      print(f'Epoch {epoch + 1} validation accuracy: {validation_acc:.2f}% validation loss: {val_loss/len(validation_set):.5f}')\n",
        "      val_loss_history.append(val_loss/len(validation_set))\n",
        "      val_acc_history.append(validation_acc)\n",
        "\n",
        "  return training_loss_history, val_loss_history, training_acc_history, val_acc_history"
      ]
    },
    {
      "cell_type": "markdown",
      "source": [
        "### Training on CNN "
      ],
      "metadata": {
        "id": "G06jzYITi62X"
      }
    },
    {
      "cell_type": "code",
      "source": [
        "training_loss_history_cnn, val_loss_history_cnn, training_acc_history_cnn, val_acc_history_cnn = training_loop(cnn, learning_rate=learning_rate)"
      ],
      "metadata": {
        "colab": {
          "base_uri": "https://localhost:8080/"
        },
        "id": "neSkxALyftj6",
        "outputId": "f91e6ff6-49d8-4b39-fcd2-4b6ac6c7bc23"
      },
      "execution_count": 37,
      "outputs": [
        {
          "output_type": "stream",
          "name": "stderr",
          "text": [
            "100%|██████████| 938/938 [00:11<00:00, 82.03it/s]\n"
          ]
        },
        {
          "output_type": "stream",
          "name": "stdout",
          "text": [
            "Epoch 1 training accuracy: 88.85% training loss: 0.00557\n",
            "Epoch 1 validation accuracy: 96.06% validation loss: 0.00200\n"
          ]
        },
        {
          "output_type": "stream",
          "name": "stderr",
          "text": [
            "100%|██████████| 938/938 [00:11<00:00, 81.98it/s]\n"
          ]
        },
        {
          "output_type": "stream",
          "name": "stdout",
          "text": [
            "Epoch 2 training accuracy: 96.15% training loss: 0.00195\n",
            "Epoch 2 validation accuracy: 96.58% validation loss: 0.00165\n"
          ]
        },
        {
          "output_type": "stream",
          "name": "stderr",
          "text": [
            "100%|██████████| 938/938 [00:12<00:00, 76.97it/s]\n"
          ]
        },
        {
          "output_type": "stream",
          "name": "stdout",
          "text": [
            "Epoch 3 training accuracy: 96.83% training loss: 0.00160\n",
            "Epoch 3 validation accuracy: 97.22% validation loss: 0.00151\n"
          ]
        },
        {
          "output_type": "stream",
          "name": "stderr",
          "text": [
            "100%|██████████| 938/938 [00:11<00:00, 79.81it/s]\n"
          ]
        },
        {
          "output_type": "stream",
          "name": "stdout",
          "text": [
            "Epoch 4 training accuracy: 96.92% training loss: 0.00155\n",
            "Epoch 4 validation accuracy: 96.85% validation loss: 0.00157\n"
          ]
        },
        {
          "output_type": "stream",
          "name": "stderr",
          "text": [
            "100%|██████████| 938/938 [00:11<00:00, 81.26it/s]\n"
          ]
        },
        {
          "output_type": "stream",
          "name": "stdout",
          "text": [
            "Epoch 5 training accuracy: 97.03% training loss: 0.00152\n",
            "Epoch 5 validation accuracy: 97.08% validation loss: 0.00146\n"
          ]
        },
        {
          "output_type": "stream",
          "name": "stderr",
          "text": [
            "100%|██████████| 938/938 [00:11<00:00, 80.61it/s]\n"
          ]
        },
        {
          "output_type": "stream",
          "name": "stdout",
          "text": [
            "Epoch 6 training accuracy: 97.07% training loss: 0.00147\n",
            "Epoch 6 validation accuracy: 97.23% validation loss: 0.00145\n"
          ]
        },
        {
          "output_type": "stream",
          "name": "stderr",
          "text": [
            "100%|██████████| 938/938 [00:11<00:00, 81.55it/s]\n"
          ]
        },
        {
          "output_type": "stream",
          "name": "stdout",
          "text": [
            "Epoch 7 training accuracy: 97.17% training loss: 0.00146\n",
            "Epoch 7 validation accuracy: 96.49% validation loss: 0.00170\n"
          ]
        },
        {
          "output_type": "stream",
          "name": "stderr",
          "text": [
            "100%|██████████| 938/938 [00:12<00:00, 73.40it/s]\n"
          ]
        },
        {
          "output_type": "stream",
          "name": "stdout",
          "text": [
            "Epoch 8 training accuracy: 97.22% training loss: 0.00144\n",
            "Epoch 8 validation accuracy: 97.18% validation loss: 0.00138\n"
          ]
        },
        {
          "output_type": "stream",
          "name": "stderr",
          "text": [
            "100%|██████████| 938/938 [00:11<00:00, 81.79it/s]\n"
          ]
        },
        {
          "output_type": "stream",
          "name": "stdout",
          "text": [
            "Epoch 9 training accuracy: 97.11% training loss: 0.00145\n",
            "Epoch 9 validation accuracy: 97.06% validation loss: 0.00140\n"
          ]
        },
        {
          "output_type": "stream",
          "name": "stderr",
          "text": [
            "100%|██████████| 938/938 [00:14<00:00, 63.97it/s]\n"
          ]
        },
        {
          "output_type": "stream",
          "name": "stdout",
          "text": [
            "Epoch 10 training accuracy: 97.20% training loss: 0.00142\n",
            "Epoch 10 validation accuracy: 97.13% validation loss: 0.00140\n"
          ]
        }
      ]
    },
    {
      "cell_type": "markdown",
      "source": [
        "### Training on MLP  "
      ],
      "metadata": {
        "id": "8GH4IwUEkHLu"
      }
    },
    {
      "cell_type": "code",
      "source": [
        "training_loss_history_mlp, val_loss_history_mlp, training_acc_history_mlp, val_acc_history_mlp = training_loop(mlp, learning_rate=learning_rate)"
      ],
      "metadata": {
        "colab": {
          "base_uri": "https://localhost:8080/"
        },
        "id": "pqR0U6nekMni",
        "outputId": "c9319f33-58d9-4965-81a0-7314202fb61f"
      },
      "execution_count": 59,
      "outputs": [
        {
          "output_type": "stream",
          "name": "stderr",
          "text": [
            "100%|██████████| 938/938 [00:13<00:00, 67.76it/s]\n"
          ]
        },
        {
          "output_type": "stream",
          "name": "stdout",
          "text": [
            "Epoch 1 training accuracy: 87.39% training loss: 0.00630\n",
            "Epoch 1 validation accuracy: 92.04% validation loss: 0.00410\n"
          ]
        },
        {
          "output_type": "stream",
          "name": "stderr",
          "text": [
            "100%|██████████| 938/938 [00:15<00:00, 62.37it/s]\n"
          ]
        },
        {
          "output_type": "stream",
          "name": "stdout",
          "text": [
            "Epoch 2 training accuracy: 92.33% training loss: 0.00409\n",
            "Epoch 2 validation accuracy: 92.59% validation loss: 0.00398\n"
          ]
        },
        {
          "output_type": "stream",
          "name": "stderr",
          "text": [
            "100%|██████████| 938/938 [00:13<00:00, 70.59it/s]\n"
          ]
        },
        {
          "output_type": "stream",
          "name": "stdout",
          "text": [
            "Epoch 3 training accuracy: 92.94% training loss: 0.00383\n",
            "Epoch 3 validation accuracy: 92.98% validation loss: 0.00380\n"
          ]
        },
        {
          "output_type": "stream",
          "name": "stderr",
          "text": [
            "100%|██████████| 938/938 [00:11<00:00, 80.35it/s]\n"
          ]
        },
        {
          "output_type": "stream",
          "name": "stdout",
          "text": [
            "Epoch 4 training accuracy: 93.51% training loss: 0.00359\n",
            "Epoch 4 validation accuracy: 93.45% validation loss: 0.00353\n"
          ]
        },
        {
          "output_type": "stream",
          "name": "stderr",
          "text": [
            "100%|██████████| 938/938 [00:11<00:00, 83.49it/s]\n"
          ]
        },
        {
          "output_type": "stream",
          "name": "stdout",
          "text": [
            "Epoch 5 training accuracy: 93.57% training loss: 0.00354\n",
            "Epoch 5 validation accuracy: 92.79% validation loss: 0.00413\n"
          ]
        },
        {
          "output_type": "stream",
          "name": "stderr",
          "text": [
            "100%|██████████| 938/938 [00:12<00:00, 74.92it/s]\n"
          ]
        },
        {
          "output_type": "stream",
          "name": "stdout",
          "text": [
            "Epoch 6 training accuracy: 94.07% training loss: 0.00343\n",
            "Epoch 6 validation accuracy: 93.67% validation loss: 0.00386\n"
          ]
        },
        {
          "output_type": "stream",
          "name": "stderr",
          "text": [
            "100%|██████████| 938/938 [00:11<00:00, 84.66it/s]\n"
          ]
        },
        {
          "output_type": "stream",
          "name": "stdout",
          "text": [
            "Epoch 7 training accuracy: 94.07% training loss: 0.00340\n",
            "Epoch 7 validation accuracy: 93.98% validation loss: 0.00368\n"
          ]
        },
        {
          "output_type": "stream",
          "name": "stderr",
          "text": [
            "100%|██████████| 938/938 [00:11<00:00, 84.27it/s]\n"
          ]
        },
        {
          "output_type": "stream",
          "name": "stdout",
          "text": [
            "Epoch 8 training accuracy: 94.12% training loss: 0.00334\n",
            "Epoch 8 validation accuracy: 94.92% validation loss: 0.00312\n"
          ]
        },
        {
          "output_type": "stream",
          "name": "stderr",
          "text": [
            "100%|██████████| 938/938 [00:10<00:00, 85.48it/s]\n"
          ]
        },
        {
          "output_type": "stream",
          "name": "stdout",
          "text": [
            "Epoch 9 training accuracy: 94.33% training loss: 0.00323\n",
            "Epoch 9 validation accuracy: 92.93% validation loss: 0.00413\n"
          ]
        },
        {
          "output_type": "stream",
          "name": "stderr",
          "text": [
            "100%|██████████| 938/938 [00:11<00:00, 83.97it/s]\n"
          ]
        },
        {
          "output_type": "stream",
          "name": "stdout",
          "text": [
            "Epoch 10 training accuracy: 94.41% training loss: 0.00312\n",
            "Epoch 10 validation accuracy: 94.12% validation loss: 0.00357\n"
          ]
        }
      ]
    },
    {
      "cell_type": "markdown",
      "metadata": {
        "id": "1NnjpIpFKn5L"
      },
      "source": [
        "# Visualizing Loss and Model Accuracy "
      ]
    },
    {
      "cell_type": "code",
      "source": [
        "fig, ((ax1, ax2), (ax3, ax4)) = plt.subplots(2, 2, figsize=(15,10))\n",
        "fig.suptitle('MNIST Recognition - CNN vs MLP \\n Optimizer: Adam \\nlearning rate: '+ format(learning_rate))\n",
        "\n",
        "# CNN Model Loss \n",
        "ax1.plot(training_loss_history_cnn, label=\"Training Loss\")\n",
        "ax1.plot(val_loss_history_cnn, label=\"Validation Loss\")\n",
        "ax1.title.set_text('CNN - Training vs Validation loss')\n",
        "ax1.legend()\n",
        "\n",
        "# CNN Model Accuracy \n",
        "ax3.plot(training_acc_history_cnn, label=\"Training Accuracy\")\n",
        "ax3.plot(val_acc_history_cnn, label=\"Validation Accuracy\")\n",
        "ax3.title.set_text('CNN - Training vs Validation Accuracy')\n",
        "ax3.legend()\n",
        "\n",
        "\n",
        "# MLP Model Loss \n",
        "ax2.plot(training_loss_history_mlp, label=\"Training Loss\")\n",
        "ax2.plot(val_loss_history_mlp, label=\"Validation Loss\")\n",
        "ax2.title.set_text('MLP - Training vs Validation loss')\n",
        "ax2.legend()\n",
        "\n",
        "\n",
        "# MLP Model Accuracy \n",
        "ax4.plot(training_acc_history_mlp, label=\"Training Accuracy\")\n",
        "ax4.plot(val_acc_history_mlp, label=\"Validation Accuracy\")\n",
        "ax4.title.set_text('MLP - Training vs Validation Accuracy')\n",
        "ax4.legend()\n",
        "\n",
        "\n",
        "for ax in fig.get_axes():\n",
        "    ax.label_outer()\n"
      ],
      "metadata": {
        "colab": {
          "base_uri": "https://localhost:8080/",
          "height": 662
        },
        "id": "uKOQrycxl6CM",
        "outputId": "8db9061d-a6d0-425a-9590-cf72efa0ddd4"
      },
      "execution_count": 63,
      "outputs": [
        {
          "output_type": "display_data",
          "data": {
            "text/plain": [
              "<Figure size 1080x720 with 4 Axes>"
            ],
            "image/png": "[encoded data removed]"
          },
          "metadata": {
            "needs_background": "light"
          }
        }
      ]
    },
    {
      "cell_type": "code",
      "source": [],
      "metadata": {
        "id": "f49IaDG4sGxL"
      },
      "execution_count": null,
      "outputs": []
    }
  ],
  "metadata": {
    "accelerator": "GPU",
    "colab": {
      "provenance": [],
      "include_colab_link": true
    },
    "gpuClass": "standard",
    "kernelspec": {
      "display_name": "Python 3",
      "name": "python3"
    },
    "language_info": {
      "name": "python"
    }
  },
  "nbformat": 4,
  "nbformat_minor": 0
}